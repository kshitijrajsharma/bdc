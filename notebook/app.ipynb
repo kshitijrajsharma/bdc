{
 "cells": [
  {
   "cell_type": "code",
   "execution_count": 89,
   "metadata": {},
   "outputs": [],
   "source": [
    "import geopandas as gpd\n",
    "import math\n",
    "from shapely.geometry import Point, LineString, Polygon, MultiPoint, MultiLineString, MultiPolygon"
   ]
  },
  {
   "cell_type": "code",
   "execution_count": 90,
   "metadata": {},
   "outputs": [],
   "source": [
    "buildings= gpd.read_file('../tests/data/buildings.geojson')\n",
    "road= gpd.read_file('../tests/data/road.geojson')"
   ]
  },
  {
   "cell_type": "code",
   "execution_count": 91,
   "metadata": {},
   "outputs": [
    {
     "name": "stdout",
     "output_type": "stream",
     "text": [
      "0       TW611\n",
      "1       TW611\n",
      "2       TW611\n",
      "3       TW611\n",
      "4       TW611\n",
      "        ...  \n",
      "3244    TW802\n",
      "3245    TW761\n",
      "3246    TW761\n",
      "3247    TW761\n",
      "3248    TW763\n",
      "Name: M_R_Code_2, Length: 3249, dtype: object\n"
     ]
    }
   ],
   "source": [
    "# for d in buildings.columns:\n",
    "#     print(d)\n",
    "print(buildings['M_R_Code_2'])\n",
    "# print(road)"
   ]
  },
  {
   "cell_type": "code",
   "execution_count": 92,
   "metadata": {},
   "outputs": [],
   "source": [
    "class bdcPoint:\n",
    "    \t\n",
    "\tdef __init__(self):\n",
    "\t\t\n",
    "\t\tself.x = 0\n",
    "\t\tself.y = 0\n",
    "\n",
    "# Constant integers for directions\n",
    "RIGHT = 1\n",
    "LEFT = -1\n",
    "ZERO = 0\n",
    "\n",
    "def directionOfPoint(A, B, P):\n",
    "    \"\"\"[Provides direction of the point in respect to line]\n",
    "\n",
    "    Args:\n",
    "        A ([type]): [Starting Point of Line]\n",
    "        B ([type]): [Ending Point of Line]\n",
    "        P ([type]): [Point of Interest]\n",
    "\n",
    "    Returns:\n",
    "        [Direction(int)]: [Left,Right and Zero : -1,1,0 ( Left direction, Right Direction , On Line)]\n",
    "    \"\"\"\n",
    "    global RIGHT, LEFT, ZERO\n",
    "\t\n",
    "\t# Subtracting co-ordinates of\n",
    "\t# point A from B and P, to\n",
    "\t# make A as origin\n",
    " \n",
    "    B.x -= A.x\n",
    "    B.y -= A.y\n",
    "    P.x -= A.x\n",
    "    P.y -= A.y\n",
    "\n",
    "    # Determining cross Product\n",
    "    \"\"\"\"The Cross-Product has an interesting Property which will be used to determine direction of a point from a line segment. That is, the cross-product of two points is positive if and only if the angle of those point at origin (0, 0) is in counter-clockwise. And conversely the cross-product is negative if and only if the angle of those point at origin is in clockwise direction.\"\"\"\n",
    "    cross_product = B.x * P.y - B.y * P.x\n",
    "\n",
    "    # Return RIGHT if cross product is positive\n",
    "    if (cross_product > 0):\n",
    "        return RIGHT\n",
    "        \n",
    "    # Return LEFT if cross product is negative\n",
    "    if (cross_product < 0):\n",
    "        return LEFT\n",
    "\n",
    "    # Return ZERO if cross product is zero\n",
    "    return ZERO\n",
    "\n",
    "def addDirectionLength(direction,length,row):\n",
    "    #right-even, left-odd number \n",
    "    print(length)\n",
    "    if (direction == 1):\n",
    "        print(\"Right Direction\")\n",
    "        row[\"road_direction\"] = \"right\"\n",
    "        row[\"road_length_d_code\"] = round_up_to_even(length)\n",
    "        \n",
    "    elif (direction == -1):\n",
    "        print(\"Left Direction\")\n",
    "        row[\"road_direction\"] = \"left\"\n",
    "        row[\"road_length_d_code\"] = round_up_to_odd(length)\n",
    "    else:\n",
    "        row[\"road_direction\"] = \"on_line\"\n",
    "        \n",
    "def getStartEndLength(line):\n",
    "    line_bound = line.geometry.boundary\n",
    "    df_line=line_bound.explode(index_parts=True)\n",
    "    start_point,end_point=df_line.iloc[0],df_line.iloc[1]\n",
    "    projected_line = line.to_crs(epsg=32644)\n",
    "    length= projected_line.geometry.length\n",
    "    float_length=length.tolist()\n",
    "    return start_point,end_point,float_length[0]\n",
    "\n",
    "\n",
    "def round_up_to_even(f):\n",
    "    return math.ceil(f / 2.) * 2\n",
    "\n",
    "def round_up_to_odd(f):\n",
    "    return math.ceil(f) // 2 * 2 + 1\n"
   ]
  },
  {
   "cell_type": "code",
   "execution_count": 94,
   "metadata": {},
   "outputs": [
    {
     "name": "stdout",
     "output_type": "stream",
     "text": [
      "0\n",
      "Left Direction\n",
      "OBJECTID_1                                                            1\n",
      "Join_Count                                                            1\n",
      "TARGET_FID                                                            0\n",
      "Id                                                                    0\n",
      "Join_Cou_1                                                            1\n",
      "TARGET_F_1                                                            0\n",
      "JOIN_FID                                                            110\n",
      "OBJECTID                                                            116\n",
      "Ward_No                                                             0.0\n",
      "M_R_Code                                                          TW611\n",
      "Width                                                              20.0\n",
      "ROW                                                                36.0\n",
      "Class                                                                 C\n",
      "Priority                                                            0.0\n",
      "Road_Nam_1            City college dekhi paschim palpali dada hudai ...\n",
      "Code                                                               C091\n",
      "Surface                                                         Earthen\n",
      "Shape_Leng                                                     0.015021\n",
      "FID_1                                                                 0\n",
      "OBJECTID_2                                                            0\n",
      "Ward_No_1                                                           0.0\n",
      "M_R_Code_1                                                         None\n",
      "Width_1                                                             0.0\n",
      "ROW_1                                                               0.0\n",
      "Class_1                                                            None\n",
      "Priority_1                                                          0.0\n",
      "Road_Nam_2                                                         None\n",
      "Code_1                                                             None\n",
      "Surface_1                                                          None\n",
      "Shape_Le_1                                                          0.0\n",
      "FID_12                                                              110\n",
      "M_R_Code_2                                                        TW611\n",
      "geometry                POINT Z (83.44764087472663 27.58667809321946 0)\n",
      "road_direction                                                     left\n",
      "road_length_d_code                                                 1587\n",
      "Name: 0, dtype: object\n"
     ]
    }
   ],
   "source": [
    "\n",
    "for index, row in buildings.iterrows():\n",
    "    print (index)\n",
    "    # print (row)\n",
    "    road_code = row.M_R_Code_2\n",
    "    poi = row.geometry\n",
    "    road_linked_wrt_point= road.loc[road['M_R_Code_2'] == road_code]\n",
    "    start_point,end_point,length=getStartEndLength(road_linked_wrt_point)\n",
    "    start = bdcPoint()\n",
    "    end = bdcPoint()\n",
    "    point = bdcPoint()\n",
    "    start.x,start.y,end.x,end.y,point.x,point.y=start_point.x,start_point.y,end_point.x,end_point.y,poi.x,poi.y\n",
    "    direction=directionOfPoint(start,end,point)\n",
    "    addDirectionLength(direction,length,row)\n",
    "    print(row)\n",
    "    break"
   ]
  },
  {
   "cell_type": "code",
   "execution_count": null,
   "metadata": {},
   "outputs": [],
   "source": [
    "\n",
    "line_file = line_file.to_crs(epsg=32645)\n",
    "line_file['length']= line_file.geometry.length"
   ]
  }
 ],
 "metadata": {
  "interpreter": {
   "hash": "d2633628fc49347c3deb4dda7596c897665b6431af4f876efc21e7f2329b16ce"
  },
  "kernelspec": {
   "display_name": "Python 3.8.10 64-bit ('env': venv)",
   "language": "python",
   "name": "python3"
  },
  "language_info": {
   "codemirror_mode": {
    "name": "ipython",
    "version": 3
   },
   "file_extension": ".py",
   "mimetype": "text/x-python",
   "name": "python",
   "nbconvert_exporter": "python",
   "pygments_lexer": "ipython3",
   "version": "3.8.10"
  },
  "orig_nbformat": 4
 },
 "nbformat": 4,
 "nbformat_minor": 2
}
